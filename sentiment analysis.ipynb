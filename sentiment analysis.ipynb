{
 "cells": [
  {
   "cell_type": "code",
   "execution_count": 1,
   "id": "73ab2d2f",
   "metadata": {},
   "outputs": [
    {
     "name": "stdout",
     "output_type": "stream",
     "text": [
      "TF VERSION: 2.13.0\n"
     ]
    }
   ],
   "source": [
    "import os\n",
    "import random\n",
    "import numpy as np\n",
    "import pandas as pd\n",
    "import matplotlib.pyplot as plt\n",
    "import tensorflow as tf\n",
    "from tensorflow.keras import layers\n",
    "from sklearn.model_selection import train_test_split\n",
    "from sklearn.preprocessing import LabelEncoder\n",
    "\n",
    "print('TF VERSION:', tf.__version__)"
   ]
  },
  {
   "cell_type": "code",
   "execution_count": 11,
   "id": "1c830b22",
   "metadata": {},
   "outputs": [
    {
     "data": {
      "text/html": [
       "<div>\n",
       "<style scoped>\n",
       "    .dataframe tbody tr th:only-of-type {\n",
       "        vertical-align: middle;\n",
       "    }\n",
       "\n",
       "    .dataframe tbody tr th {\n",
       "        vertical-align: top;\n",
       "    }\n",
       "\n",
       "    .dataframe thead th {\n",
       "        text-align: right;\n",
       "    }\n",
       "</style>\n",
       "<table border=\"1\" class=\"dataframe\">\n",
       "  <thead>\n",
       "    <tr style=\"text-align: right;\">\n",
       "      <th></th>\n",
       "      <th>Unnamed: 0</th>\n",
       "      <th>review</th>\n",
       "      <th>polarity</th>\n",
       "      <th>division</th>\n",
       "    </tr>\n",
       "  </thead>\n",
       "  <tbody>\n",
       "    <tr>\n",
       "      <th>0</th>\n",
       "      <td>3870</td>\n",
       "      <td>able play youtube alexa</td>\n",
       "      <td>0.5000</td>\n",
       "      <td>positive</td>\n",
       "    </tr>\n",
       "    <tr>\n",
       "      <th>1</th>\n",
       "      <td>62</td>\n",
       "      <td>able recognize indian accent really well drop ...</td>\n",
       "      <td>0.2794</td>\n",
       "      <td>positive</td>\n",
       "    </tr>\n",
       "    <tr>\n",
       "      <th>2</th>\n",
       "      <td>487</td>\n",
       "      <td>absolute smart device amazon connect external ...</td>\n",
       "      <td>0.1827</td>\n",
       "      <td>positive</td>\n",
       "    </tr>\n",
       "    <tr>\n",
       "      <th>3</th>\n",
       "      <td>3204</td>\n",
       "      <td>absolutely amaze new member family control hom...</td>\n",
       "      <td>0.3682</td>\n",
       "      <td>positive</td>\n",
       "    </tr>\n",
       "    <tr>\n",
       "      <th>4</th>\n",
       "      <td>1265</td>\n",
       "      <td>absolutely amaze previously sceptical invest m...</td>\n",
       "      <td>0.2333</td>\n",
       "      <td>positive</td>\n",
       "    </tr>\n",
       "  </tbody>\n",
       "</table>\n",
       "</div>"
      ],
      "text/plain": [
       "   Unnamed: 0                                             review  polarity  \\\n",
       "0        3870                            able play youtube alexa    0.5000   \n",
       "1          62  able recognize indian accent really well drop ...    0.2794   \n",
       "2         487  absolute smart device amazon connect external ...    0.1827   \n",
       "3        3204  absolutely amaze new member family control hom...    0.3682   \n",
       "4        1265  absolutely amaze previously sceptical invest m...    0.2333   \n",
       "\n",
       "   division  \n",
       "0  positive  \n",
       "1  positive  \n",
       "2  positive  \n",
       "3  positive  \n",
       "4  positive  "
      ]
     },
     "execution_count": 11,
     "metadata": {},
     "output_type": "execute_result"
    }
   ],
   "source": [
    "df = pd.read_csv(\"EcoPreprocessed.csv\")\n",
    "\n",
    "df.head()"
   ]
  },
  {
   "cell_type": "code",
   "execution_count": 6,
   "id": "e51d18c6",
   "metadata": {},
   "outputs": [
    {
     "data": {
      "text/plain": [
       "'C:\\\\Users\\\\Tanay'"
      ]
     },
     "execution_count": 6,
     "metadata": {},
     "output_type": "execute_result"
    }
   ],
   "source": [
    "os.getcwd()"
   ]
  },
  {
   "cell_type": "code",
   "execution_count": 12,
   "id": "472be333",
   "metadata": {},
   "outputs": [],
   "source": [
    "X = list(df.review)\n",
    "Y = df.division"
   ]
  },
  {
   "cell_type": "code",
   "execution_count": 13,
   "id": "9e7db0ef",
   "metadata": {},
   "outputs": [],
   "source": [
    "X_train, X_test, Y_train, Y_test = train_test_split(\n",
    "    X, Y, test_size=0.15, shuffle=True, random_state=0, stratify=Y\n",
    ")"
   ]
  },
  {
   "cell_type": "code",
   "execution_count": 14,
   "id": "b47c1a28",
   "metadata": {},
   "outputs": [
    {
     "name": "stdout",
     "output_type": "stream",
     "text": [
      "NO. OF TRAINING EXAMPLES: 3471  TYPE:  <class 'list'>\n",
      "NO. OF VALIDATION EXAMPLES: 613  TYPE:  <class 'list'>\n"
     ]
    }
   ],
   "source": [
    "print('NO. OF TRAINING EXAMPLES:', len(X_train), ' TYPE: ', type(X_train))\n",
    "print('NO. OF VALIDATION EXAMPLES:', len(X_test), ' TYPE: ', type(X_test))"
   ]
  },
  {
   "cell_type": "code",
   "execution_count": 15,
   "id": "fda5d1e7",
   "metadata": {},
   "outputs": [
    {
     "name": "stdout",
     "output_type": "stream",
     "text": [
      "['amaze product alexa will follow command say']\n",
      "['worst product buy first alexa previous year work fine but deal offer alexa doesnt work properly can not recognise voice command sellers sell reject product']\n"
     ]
    }
   ],
   "source": [
    "def show_example(data):\n",
    "    print(random.sample(data, 1))\n",
    "    \n",
    "show_example(X_train)\n",
    "show_example(X_test)"
   ]
  },
  {
   "cell_type": "code",
   "execution_count": 16,
   "id": "a1704546",
   "metadata": {},
   "outputs": [],
   "source": [
    "NUM_WORDS = 1000\n",
    "OOV_TOKEN = '<<OOV>>'\n",
    "MAXLEN = 40\n",
    "PADDING_TYPE = 'post'\n",
    "TRUNCATING_TYPE = 'post'\n",
    "\n",
    "tokenizer = tf.keras.preprocessing.text.Tokenizer(\n",
    "    num_words=NUM_WORDS,\n",
    "    oov_token=OOV_TOKEN\n",
    ")\n",
    "\n",
    "tokenizer.fit_on_texts(X_train)\n",
    "\n",
    "X_train_sequences = tokenizer.texts_to_sequences(X_train)\n",
    "X_train_padded = tf.keras.preprocessing.sequence.pad_sequences(\n",
    "    X_train_sequences,\n",
    "    maxlen=MAXLEN,\n",
    "    padding=PADDING_TYPE,\n",
    "    truncating=TRUNCATING_TYPE\n",
    ")\n",
    "\n",
    "X_test_sequences = tokenizer.texts_to_sequences(X_test)\n",
    "X_test_padded = tf.keras.preprocessing.sequence.pad_sequences(\n",
    "    X_test_sequences,\n",
    "    maxlen=MAXLEN,\n",
    "    padding=PADDING_TYPE,\n",
    "    truncating=TRUNCATING_TYPE\n",
    ")\n"
   ]
  },
  {
   "cell_type": "code",
   "execution_count": 17,
   "id": "4459371a",
   "metadata": {},
   "outputs": [],
   "source": [
    "label_encoder = LabelEncoder()\n",
    "\n",
    "Y_train = label_encoder.fit_transform(Y_train)\n",
    "Y_test = label_encoder.transform(Y_test)"
   ]
  },
  {
   "cell_type": "code",
   "execution_count": 18,
   "id": "625f7df7",
   "metadata": {},
   "outputs": [
    {
     "name": "stdout",
     "output_type": "stream",
     "text": [
      "Model: \"sequential\"\n",
      "_________________________________________________________________\n",
      " Layer (type)                Output Shape              Param #   \n",
      "=================================================================\n",
      " embedding (Embedding)       (None, 40, 8)             8000      \n",
      "                                                                 \n",
      " flatten (Flatten)           (None, 320)               0         \n",
      "                                                                 \n",
      " dense (Dense)               (None, 3)                 963       \n",
      "                                                                 \n",
      "=================================================================\n",
      "Total params: 8963 (35.01 KB)\n",
      "Trainable params: 8963 (35.01 KB)\n",
      "Non-trainable params: 0 (0.00 Byte)\n",
      "_________________________________________________________________\n"
     ]
    }
   ],
   "source": [
    "EMBEDDING_DIM = 8\n",
    "\n",
    "model = tf.keras.Sequential([\n",
    "    layers.Embedding(NUM_WORDS, EMBEDDING_DIM, input_length=MAXLEN),\n",
    "    layers.Flatten(),\n",
    "    layers.Dense(3, activation='softmax')\n",
    "])\n",
    "\n",
    "model.summary()\n",
    "\n",
    "model.compile(\n",
    "    optimizer='adam',\n",
    "    loss='sparse_categorical_crossentropy',\n",
    "    metrics=['accuracy']\n",
    ")"
   ]
  },
  {
   "cell_type": "code",
   "execution_count": 19,
   "id": "b70a3ae2",
   "metadata": {},
   "outputs": [],
   "source": [
    "SAVED_MODEL_PATH = 'ckpt/data_sentiment_classifier.h5'\n",
    "\n",
    "model_checkpoint = tf.keras.callbacks.ModelCheckpoint(\n",
    "    SAVED_MODEL_PATH,\n",
    "    monitor='val_loss',\n",
    "    save_best_only=True,\n",
    "    verbose=True\n",
    ")"
   ]
  },
  {
   "cell_type": "code",
   "execution_count": 20,
   "id": "a398d95b",
   "metadata": {},
   "outputs": [
    {
     "name": "stdout",
     "output_type": "stream",
     "text": [
      "Epoch 1/20\n",
      " 95/109 [=========================>....] - ETA: 0s - loss: 0.8333 - accuracy: 0.7467\n",
      "Epoch 1: val_loss improved from inf to 0.72311, saving model to ckpt\\data_sentiment_classifier.h5\n",
      "109/109 [==============================] - 1s 3ms/step - loss: 0.8237 - accuracy: 0.7462 - val_loss: 0.7231 - val_accuracy: 0.7504\n",
      "Epoch 2/20\n",
      "100/109 [==========================>...] - ETA: 0s - loss: 0.6835 - accuracy: 0.7513\n",
      "Epoch 2: val_loss improved from 0.72311 to 0.63325, saving model to ckpt\\data_sentiment_classifier.h5\n"
     ]
    },
    {
     "name": "stderr",
     "output_type": "stream",
     "text": [
      "C:\\Users\\Tanay\\anaconda3\\lib\\site-packages\\keras\\src\\engine\\training.py:3000: UserWarning: You are saving your model as an HDF5 file via `model.save()`. This file format is considered legacy. We recommend using instead the native Keras format, e.g. `model.save('my_model.keras')`.\n",
      "  saving_api.save_model(\n"
     ]
    },
    {
     "name": "stdout",
     "output_type": "stream",
     "text": [
      "109/109 [==============================] - 0s 2ms/step - loss: 0.6800 - accuracy: 0.7508 - val_loss: 0.6332 - val_accuracy: 0.7504\n",
      "Epoch 3/20\n",
      " 96/109 [=========================>....] - ETA: 0s - loss: 0.5590 - accuracy: 0.7575\n",
      "Epoch 3: val_loss improved from 0.63325 to 0.52664, saving model to ckpt\\data_sentiment_classifier.h5\n",
      "109/109 [==============================] - 0s 2ms/step - loss: 0.5563 - accuracy: 0.7574 - val_loss: 0.5266 - val_accuracy: 0.7732\n",
      "Epoch 4/20\n",
      "101/109 [==========================>...] - ETA: 0s - loss: 0.4573 - accuracy: 0.7930\n",
      "Epoch 4: val_loss improved from 0.52664 to 0.46803, saving model to ckpt\\data_sentiment_classifier.h5\n",
      "109/109 [==============================] - 0s 1ms/step - loss: 0.4573 - accuracy: 0.7934 - val_loss: 0.4680 - val_accuracy: 0.8140\n",
      "Epoch 5/20\n",
      " 46/109 [===========>..................] - ETA: 0s - loss: 0.4141 - accuracy: 0.8152\n",
      "Epoch 5: val_loss improved from 0.46803 to 0.43274, saving model to ckpt\\data_sentiment_classifier.h5\n",
      "109/109 [==============================] - 0s 1ms/step - loss: 0.3986 - accuracy: 0.8297 - val_loss: 0.4327 - val_accuracy: 0.8401\n",
      "Epoch 6/20\n",
      " 98/109 [=========================>....] - ETA: 0s - loss: 0.3601 - accuracy: 0.8597\n",
      "Epoch 6: val_loss improved from 0.43274 to 0.41020, saving model to ckpt\\data_sentiment_classifier.h5\n",
      "109/109 [==============================] - 0s 2ms/step - loss: 0.3582 - accuracy: 0.8617 - val_loss: 0.4102 - val_accuracy: 0.8434\n",
      "Epoch 7/20\n",
      "102/109 [===========================>..] - ETA: 0s - loss: 0.3281 - accuracy: 0.8765\n",
      "Epoch 7: val_loss improved from 0.41020 to 0.39512, saving model to ckpt\\data_sentiment_classifier.h5\n",
      "109/109 [==============================] - 0s 2ms/step - loss: 0.3273 - accuracy: 0.8773 - val_loss: 0.3951 - val_accuracy: 0.8532\n",
      "Epoch 8/20\n",
      " 90/109 [=======================>......] - ETA: 0s - loss: 0.2917 - accuracy: 0.8962\n",
      "Epoch 8: val_loss improved from 0.39512 to 0.38253, saving model to ckpt\\data_sentiment_classifier.h5\n",
      "109/109 [==============================] - 0s 2ms/step - loss: 0.3005 - accuracy: 0.8914 - val_loss: 0.3825 - val_accuracy: 0.8532\n",
      "Epoch 9/20\n",
      " 53/109 [=============>................] - ETA: 0s - loss: 0.2706 - accuracy: 0.9051\n",
      "Epoch 9: val_loss improved from 0.38253 to 0.37559, saving model to ckpt\\data_sentiment_classifier.h5\n",
      "109/109 [==============================] - 0s 1ms/step - loss: 0.2776 - accuracy: 0.9003 - val_loss: 0.3756 - val_accuracy: 0.8548\n",
      "Epoch 10/20\n",
      " 55/109 [==============>...............] - ETA: 0s - loss: 0.2432 - accuracy: 0.9193\n",
      "Epoch 10: val_loss improved from 0.37559 to 0.36813, saving model to ckpt\\data_sentiment_classifier.h5\n",
      "109/109 [==============================] - 0s 1ms/step - loss: 0.2571 - accuracy: 0.9110 - val_loss: 0.3681 - val_accuracy: 0.8532\n",
      "Epoch 11/20\n",
      "105/109 [===========================>..] - ETA: 0s - loss: 0.2407 - accuracy: 0.9244\n",
      "Epoch 11: val_loss improved from 0.36813 to 0.36395, saving model to ckpt\\data_sentiment_classifier.h5\n",
      "109/109 [==============================] - 0s 1ms/step - loss: 0.2395 - accuracy: 0.9242 - val_loss: 0.3639 - val_accuracy: 0.8548\n",
      "Epoch 12/20\n",
      " 54/109 [=============>................] - ETA: 0s - loss: 0.2093 - accuracy: 0.9340\n",
      "Epoch 12: val_loss improved from 0.36395 to 0.36112, saving model to ckpt\\data_sentiment_classifier.h5\n",
      "109/109 [==============================] - 0s 1ms/step - loss: 0.2220 - accuracy: 0.9257 - val_loss: 0.3611 - val_accuracy: 0.8613\n",
      "Epoch 13/20\n",
      " 56/109 [==============>...............] - ETA: 0s - loss: 0.2157 - accuracy: 0.9364\n",
      "Epoch 13: val_loss improved from 0.36112 to 0.35876, saving model to ckpt\\data_sentiment_classifier.h5\n",
      "109/109 [==============================] - 0s 1ms/step - loss: 0.2062 - accuracy: 0.9375 - val_loss: 0.3588 - val_accuracy: 0.8581\n",
      "Epoch 14/20\n",
      " 97/109 [=========================>....] - ETA: 0s - loss: 0.1921 - accuracy: 0.9427\n",
      "Epoch 14: val_loss did not improve from 0.35876\n",
      "109/109 [==============================] - 0s 1ms/step - loss: 0.1925 - accuracy: 0.9427 - val_loss: 0.3616 - val_accuracy: 0.8581\n",
      "Epoch 15/20\n",
      " 74/109 [===================>..........] - ETA: 0s - loss: 0.1767 - accuracy: 0.9493\n",
      "Epoch 15: val_loss improved from 0.35876 to 0.35642, saving model to ckpt\\data_sentiment_classifier.h5\n",
      "109/109 [==============================] - 0s 2ms/step - loss: 0.1797 - accuracy: 0.9461 - val_loss: 0.3564 - val_accuracy: 0.8613\n",
      "Epoch 16/20\n",
      " 57/109 [==============>...............] - ETA: 0s - loss: 0.1677 - accuracy: 0.9550\n",
      "Epoch 16: val_loss did not improve from 0.35642\n",
      "109/109 [==============================] - 0s 1ms/step - loss: 0.1678 - accuracy: 0.9525 - val_loss: 0.3616 - val_accuracy: 0.8662\n",
      "Epoch 17/20\n",
      "105/109 [===========================>..] - ETA: 0s - loss: 0.1562 - accuracy: 0.9554\n",
      "Epoch 17: val_loss did not improve from 0.35642\n",
      "109/109 [==============================] - 0s 1ms/step - loss: 0.1569 - accuracy: 0.9559 - val_loss: 0.3604 - val_accuracy: 0.8646\n",
      "Epoch 18/20\n",
      " 55/109 [==============>...............] - ETA: 0s - loss: 0.1432 - accuracy: 0.9574\n",
      "Epoch 18: val_loss did not improve from 0.35642\n",
      "109/109 [==============================] - 0s 1ms/step - loss: 0.1466 - accuracy: 0.9597 - val_loss: 0.3623 - val_accuracy: 0.8695\n",
      "Epoch 19/20\n",
      " 94/109 [========================>.....] - ETA: 0s - loss: 0.1400 - accuracy: 0.9618\n",
      "Epoch 19: val_loss did not improve from 0.35642\n",
      "109/109 [==============================] - 0s 1ms/step - loss: 0.1382 - accuracy: 0.9637 - val_loss: 0.3649 - val_accuracy: 0.8695\n",
      "Epoch 20/20\n",
      " 89/109 [=======================>......] - ETA: 0s - loss: 0.1307 - accuracy: 0.9628\n",
      "Epoch 20: val_loss did not improve from 0.35642\n",
      "109/109 [==============================] - 0s 1ms/step - loss: 0.1297 - accuracy: 0.9654 - val_loss: 0.3667 - val_accuracy: 0.8711\n"
     ]
    }
   ],
   "source": [
    "history = model.fit(\n",
    "    X_train_padded,\n",
    "    Y_train,\n",
    "    epochs=20,\n",
    "    validation_data=(X_test_padded, Y_test),\n",
    "    callbacks=[model_checkpoint]\n",
    ")\n"
   ]
  },
  {
   "cell_type": "code",
   "execution_count": 23,
   "id": "52c20be0",
   "metadata": {},
   "outputs": [
    {
     "data": {
      "image/png": "[encoded data removed]",
      "text/plain": [
       "<Figure size 640x480 with 1 Axes>"
      ]
     },
     "metadata": {},
     "output_type": "display_data"
    },
    {
     "data": {
      "image/png": "[encoded data removed]",
      "text/plain": [
       "<Figure size 640x480 with 1 Axes>"
      ]
     },
     "metadata": {},
     "output_type": "display_data"
    }
   ],
   "source": [
    "plt.plot(history.history['loss'], label='Train Loss')\n",
    "plt.plot(history.history['val_loss'], label='Validation Loss')\n",
    "plt.legend()\n",
    "plt.show()\n",
    "\n",
    "plt.plot(history.history['accuracy'], label='Train Accuracy')\n",
    "plt.plot(history.history['val_accuracy'], label='Validation Accuracy')\n",
    "plt.legend()\n",
    "plt.show()"
   ]
  },
  {
   "cell_type": "code",
   "execution_count": 24,
   "id": "0e8df3e4",
   "metadata": {},
   "outputs": [
    {
     "name": "stdout",
     "output_type": "stream",
     "text": [
      "20/20 [==============================] - 0s 1ms/step - loss: 0.3564 - accuracy: 0.8613\n"
     ]
    },
    {
     "data": {
      "text/plain": [
       "[0.35641857981681824, 0.8613376617431641]"
      ]
     },
     "execution_count": 24,
     "metadata": {},
     "output_type": "execute_result"
    }
   ],
   "source": [
    "saved_model = tf.keras.models.load_model(SAVED_MODEL_PATH)\n",
    "saved_model.evaluate(X_test_padded, Y_test)"
   ]
  },
  {
   "cell_type": "code",
   "execution_count": null,
   "id": "2805f446",
   "metadata": {},
   "outputs": [],
   "source": []
  }
 ],
 "metadata": {
  "kernelspec": {
   "display_name": "Python 3 (ipykernel)",
   "language": "python",
   "name": "python3"
  },
  "language_info": {
   "codemirror_mode": {
    "name": "ipython",
    "version": 3
   },
   "file_extension": ".py",
   "mimetype": "text/x-python",
   "name": "python",
   "nbconvert_exporter": "python",
   "pygments_lexer": "ipython3",
   "version": "3.9.13"
  }
 },
 "nbformat": 4,
 "nbformat_minor": 5
}
